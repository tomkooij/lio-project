{
 "cells": [
  {
   "cell_type": "code",
   "execution_count": 1,
   "metadata": {
    "collapsed": true
   },
   "outputs": [],
   "source": [
    "from __future__ import print_function"
   ]
  },
  {
   "cell_type": "code",
   "execution_count": 2,
   "metadata": {
    "collapsed": true
   },
   "outputs": [],
   "source": [
    "from datetime import datetime\n",
    "\n",
    "import matplotlib.pyplot as plt\n",
    "from sapphire import download_data, Station\n",
    "from sapphire.publicdb import download_data as publicdb_download_data\n",
    "import tables\n",
    "import zlib\n",
    "\n",
    "%matplotlib inline"
   ]
  },
  {
   "cell_type": "code",
   "execution_count": 3,
   "metadata": {
    "collapsed": true
   },
   "outputs": [],
   "source": [
    "START = datetime(2016, 12, 4)\n",
    "END = datetime(2016, 12, 5)\n",
    "STATION = 501\n",
    "FILENAME = 'traces-publicdb.h5'"
   ]
  },
  {
   "cell_type": "code",
   "execution_count": 4,
   "metadata": {
    "collapsed": false
   },
   "outputs": [],
   "source": [
    "data = tables.open_file(FILENAME, 'a')"
   ]
  },
  {
   "cell_type": "code",
   "execution_count": 5,
   "metadata": {
    "collapsed": false
   },
   "outputs": [
    {
     "name": "stderr",
     "output_type": "stream",
     "text": [
      "100%|####################################################################################################|Time: 0:00:07\n"
     ]
    }
   ],
   "source": [
    "download_data(data, '/s%d' % STATION, STATION, start=START, end=END)"
   ]
  },
  {
   "cell_type": "code",
   "execution_count": 6,
   "metadata": {
    "collapsed": true
   },
   "outputs": [],
   "source": [
    "esd_events = data.root.s501.events"
   ]
  },
  {
   "cell_type": "code",
   "execution_count": 7,
   "metadata": {
    "collapsed": false
   },
   "outputs": [
    {
     "data": {
      "text/plain": [
       "(0L, 1480809600, 716550813L, 1480809600716550813L, [311, 5, 652, 4], [3163, 0, 6832, 0], 1.3063000440597534, 0.0, 2.394700050354004, 0.0, 62.5, -999.0, 62.5, -999.0, 67.5)"
      ]
     },
     "execution_count": 7,
     "metadata": {},
     "output_type": "execute_result"
    }
   ],
   "source": [
    "first_event = esd_events[0]\n",
    "first_event"
   ]
  },
  {
   "cell_type": "code",
   "execution_count": 8,
   "metadata": {
    "collapsed": false
   },
   "outputs": [
    {
     "data": {
      "text/plain": [
       "(1480809600, 716550813)"
      ]
     },
     "execution_count": 8,
     "metadata": {},
     "output_type": "execute_result"
    }
   ],
   "source": [
    "ts = first_event['timestamp']\n",
    "ns = first_event['nanoseconds']\n",
    "ts, ns"
   ]
  },
  {
   "cell_type": "markdown",
   "metadata": {},
   "source": [
    "# Trace uit API (per stuk)"
   ]
  },
  {
   "cell_type": "code",
   "execution_count": 9,
   "metadata": {
    "collapsed": false
   },
   "outputs": [],
   "source": [
    "s = Station(STATION)"
   ]
  },
  {
   "cell_type": "code",
   "execution_count": 10,
   "metadata": {
    "collapsed": false
   },
   "outputs": [],
   "source": [
    "traces = s.event_trace(ts, ns)"
   ]
  },
  {
   "cell_type": "code",
   "execution_count": 11,
   "metadata": {
    "collapsed": false
   },
   "outputs": [
    {
     "name": "stdout",
     "output_type": "stream",
     "text": [
      "trace  0 [1, 0, -2, -1, -1, -5, 0, 0, -2, 0, -1, -2, -1, -2, -2] ...\n",
      "trace  1 [-1, 1, -2, -2, -1, 1, -1, 1, -2, 1, -3, 1, -1, 0, -3] ...\n",
      "trace  2 [-2, 2, 1, 2, 0, 4, -1, 0, -1, 0, 0, -1, -1, 1, 0] ...\n",
      "trace  3 [1, 0, 0, -1, 1, -3, 2, 0, -1, 0, 0, -1, -1, -3, 0] ...\n"
     ]
    }
   ],
   "source": [
    "for idx in range(4):\n",
    "    print ('trace ', idx, traces[idx][:15], '...')"
   ]
  },
  {
   "cell_type": "code",
   "execution_count": 12,
   "metadata": {
    "collapsed": false
   },
   "outputs": [
    {
     "data": {
      "image/png": "[encoded data removed]",
      "text/plain": [
       "<matplotlib.figure.Figure at 0xa12d710>"
      ]
     },
     "metadata": {},
     "output_type": "display_data"
    }
   ],
   "source": [
    "for idx in range(4):\n",
    "    plt.plot(traces[idx])\n",
    "plt.show()"
   ]
  },
  {
   "cell_type": "markdown",
   "metadata": {},
   "source": [
    "# Download events + traces uit publicdb (ruwe database)\n",
    "## (Als het echt niet anders kan...)\n",
    "\n",
    "bovenaan dit notebook is `sapphire.publicdb.download_data` geimporteerd als `publicdb_download_data`\n",
    "\n",
    "Deze functie download events (en *alle* andere RUWE data) uit de ruwe database (publicdb)\n",
    "In de blobs zitten de traces."
   ]
  },
  {
   "cell_type": "code",
   "execution_count": 13,
   "metadata": {
    "collapsed": false
   },
   "outputs": [],
   "source": [
    "# DIT DUURT LANG. Er is geen progress bar..\n",
    "publicdb_download_data(data, '/publicdb_s%d' % STATION, STATION, start=START, end=END, get_blobs=True)"
   ]
  },
  {
   "cell_type": "code",
   "execution_count": 14,
   "metadata": {
    "collapsed": false
   },
   "outputs": [
    {
     "name": "stdout",
     "output_type": "stream",
     "text": [
      "traces-publicdb.h5 (File) u''\n",
      "Last modif.: 'Mon Dec 05 08:59:13 2016'\n",
      "Object Tree: \n",
      "/ (RootGroup) u''\n",
      "/publicdb_s501 (Group) 'Data group'\n",
      "/publicdb_s501/blobs (VLArray(218499,)) 'HiSPARC binary data'\n",
      "/publicdb_s501/config (Table(1,)) 'HiSPARC configuration messages'\n",
      "/publicdb_s501/events (Table(54624,)) 'HiSPARC event data'\n",
      "/publicdb_s501/satellites (Table(24,)) 'HiSPARC satellite messages'\n",
      "/publicdb_s501/singles (Table(86400,)) 'HiSPARC single messages'\n",
      "/publicdb_s501/weather (Table(17180,)) 'HiSPARC weather data'\n",
      "\n"
     ]
    }
   ],
   "source": [
    "print(data)"
   ]
  },
  {
   "cell_type": "code",
   "execution_count": 15,
   "metadata": {
    "collapsed": false
   },
   "outputs": [
    {
     "data": {
      "text/plain": [
       "'x\\x9cmT[\\x0e\\xc30\\x08\\xbb\\xd0>\\xban\\xe3q\\xff\\x8bmI \\xd8dRTQ\\xa0\\xc4\\x18\\xd3\\xdb\\x1f\\xb7\\xcd\\xa3\\xf9\\xf4\\xc7\\xeb\\x1ag\\xd8\\xf3\\x0c\\xdb\\xe7\\xb1t\\xa2\\xb1+X\\xe5\\xbf\\x9e\\xe0\\xcf\\x9a\\xcb3B;_\"Z\\xc5\\xd1\\x96\\x99\\x7f\\x81\\'\\xaf\\x1b\\xcef[~\\xab\\x99/\\x11\\x8a\\x1b5\\xa3V\\x1d\\x85\\xa1\\xf0*\\\\P\\xb9\\xf8:\\xefLn\\x14\\x01\\t\\xfb\\xb5\\xa0\\xea\\xd1&\\x13\\xd2\\x1b1\\xce\\xb7\\x02L\\xd7\\xb54\\x05\\xcc\\xc6u\\xb0\\xf2&\\xbf\\x81D\\xd8\\x9e\\xad\\xb5:\\xfeg(\\xd4\\xa6\\x01\\x06\\x14\\x89LC\\x0e\\xfcLZ\\x94\\x92\\x83yVi\\x17a\\xf3\\x184\\xb2\\x15\\xa8Df\\xc1\\xce6\\xa9\\xaf\\x94S\\x89\\x19\\x9a*\\xe5h\\xef\\x85\\xa8\\xf8\\x1c\\xd3t\\x88\\xc2]\\x8d\\x93\\xdf\\xa5\\xe5q\"!\\x04\\xe3\\xd0\\x94\\x03\\xda\\x8bE+\\x87T&\\xa4h\\xea\\xdc>\\x81(\\xae\\x98\\xd4\\xd6\\xd0\\xa2\\xb1\\x84\\xe2C\\xcf\\xf1!~\\xe5\\xd3&\\x8b8yF]\\x939\\x88\\xff\\x9b\\xa5\\xc7\\xa5\\xc2\\x8b\\xdc4\\x89\\xa5\\x84\\x99|N\\xae\\x9a\\x08%\\xd8\\xd8\\xfe\\xfa\\xbd\\xb4\\x1f\\x14/Ex6\\xed\\x1f@\\xeb\\x11ZC\\x8f6%\\xed\\xa6+!\\xf9\\xad\\x9c\\xfa\\xbb\\xc2\\x14\\x96\\x12\\nm\\xf6K\\x1bm\\x9d\\xc3\\xc2`\\xf0\\\\\\xc8\\x95\\xecb)\\xdb/\\xb4\\xb1\\xe9_\\x97\\x19<c'"
      ]
     },
     "execution_count": 15,
     "metadata": {},
     "output_type": "execute_result"
    }
   ],
   "source": [
    "blobs = data.get_node('/publicdb_s501/blobs')\n",
    "blobs[0]"
   ]
  },
  {
   "cell_type": "markdown",
   "metadata": {},
   "source": [
    "De blobs zijn gezipte strings:"
   ]
  },
  {
   "cell_type": "code",
   "execution_count": 16,
   "metadata": {
    "collapsed": false
   },
   "outputs": [
    {
     "data": {
      "text/plain": [
       "'29,28,28,27,28,27,29,30,30,27,27,27,30,29,29,28,27,27,28,27,27,28,29,28,28,28,27,27,30,31,29,28,28,27,29,30,29,28,31,28,28,28,26,27,29,29,28,27,29,29,28,27,26,28,30,29,28,27,28,29,28,30,28,29,28,30,28,28,29,29,27,29,28,26,30,28,31,28,27,29,27,28,30,29,29,30,29,27,29,29,30,26,30,28,28,29,27,28,28,29,29,29,29,24,29,30,27,27,27,30,29,28,28,27,27,29,28,28,30,28,29,27,29,28,27,29,29,29,28,31,28,28,30,28,28,29,29,28,29,28,27,29,28,29,30,29,30,29,28,28,28,29,28,27,29,27,27,28,28,28,29,28,29,28,28,29,29,28,28,26,27,28,28,30,28,29,29,28,28,30,29,27,30,28,29,28,29,28,29,30,29,28,27,28,29,30,28,29,27,28,27,28,28,27,28,29,28,26,29,26,30,29,28,28,28,28,27,27,29,28,30,28,26,28,28,29,29,29,28,27,28,27,29,28,27,27,28,29,29,28,27,27,28,28,28,28,30,27,29,30,27,27,29,28,29,29,30,28,27,30,28,30,29,28,27,29,29,27,31,29,28,27,28,28,27,30,29,27,27,29,28,28,28,28,30,28,29,27,25,29,29,28,29,28,29,28,29,27,29,28,27,29,30,29,28,28,28,31,30,29,28,29,29,29,29,28,31,28,29,29,30,27,29,29,29,27,30,27,28,28,29,26,29,28,28,28,29,25,29,31,29,27,29,29,28,27,29,26,29,31,29,28,29,28,30,26,30,29,29,29,29,27,29,27,28,28,30,28,31,29,29,26,28,29,28,29,29,27,27,27,27,27,28,29,29,29,28,26,29,28,28,27,29,28,29,29,29,28,28,30,29,28,27,28,30,28,29,27,29,28,27,27,29,28,29,29,27,26,29,27,28,28,28,27,28,29,28,27,28,30,28,26,29,29,29,27,31,25,28,28,29,29,29,26,30,26,28,28,29,31,28,27,27,28,29,28,30,29,30,28,29,27,30,29,31,29,27,25,27,27,29,29,29,31,31,30,30,29,26,30,30,28,28,28,30,28,26,27,30,29,27,30,30,30,29,28,30,28,31,29,30,27,30,26,28,29,28,27,30,28,29,28,28,28,29,27,29,28,31,30,30,28,30,28,30,29,31,27,30,29,31,27,29,27,31,28,27,27,30,28,28,26,29,26'"
      ]
     },
     "execution_count": 16,
     "metadata": {},
     "output_type": "execute_result"
    }
   ],
   "source": [
    "zlib.decompress(blobs[0])"
   ]
  },
  {
   "cell_type": "code",
   "execution_count": 17,
   "metadata": {
    "collapsed": true
   },
   "outputs": [],
   "source": [
    "trace_string = zlib.decompress(blobs[0]).decode()"
   ]
  },
  {
   "cell_type": "code",
   "execution_count": 18,
   "metadata": {
    "collapsed": false
   },
   "outputs": [],
   "source": [
    "trace = list(map(int, trace_string.split(',')))"
   ]
  },
  {
   "cell_type": "code",
   "execution_count": 19,
   "metadata": {
    "collapsed": false
   },
   "outputs": [
    {
     "name": "stdout",
     "output_type": "stream",
     "text": [
      "[29, 28, 28, 27, 28, 27, 29, 30, 30, 27, 27, 27, 30, 29, 29, 28, 27, 27, 28, 27, 27, 28, 29, 28, 28, 28, 27, 27, 30, 31, 29, 28, 28, 27, 29, 30, 29, 28, 31, 28, 28, 28, 26, 27, 29, 29, 28, 27, 29, 29, 28, 27, 26, 28, 30, 29, 28, 27, 28, 29, 28, 30, 28, 29, 28, 30, 28, 28, 29, 29, 27, 29, 28, 26, 30, 28, 31, 28, 27, 29, 27, 28, 30, 29, 29, 30, 29, 27, 29, 29, 30, 26, 30, 28, 28, 29, 27, 28, 28, 29, 29, 29, 29, 24, 29, 30, 27, 27, 27, 30, 29, 28, 28, 27, 27, 29, 28, 28, 30, 28, 29, 27, 29, 28, 27, 29, 29, 29, 28, 31, 28, 28, 30, 28, 28, 29, 29, 28, 29, 28, 27, 29, 28, 29, 30, 29, 30, 29, 28, 28, 28, 29, 28, 27, 29, 27, 27, 28, 28, 28, 29, 28, 29, 28, 28, 29, 29, 28, 28, 26, 27, 28, 28, 30, 28, 29, 29, 28, 28, 30, 29, 27, 30, 28, 29, 28, 29, 28, 29, 30, 29, 28, 27, 28, 29, 30, 28, 29, 27, 28, 27, 28, 28, 27, 28, 29, 28, 26, 29, 26, 30, 29, 28, 28, 28, 28, 27, 27, 29, 28, 30, 28, 26, 28, 28, 29, 29, 29, 28, 27, 28, 27, 29, 28, 27, 27, 28, 29, 29, 28, 27, 27, 28, 28, 28, 28, 30, 27, 29, 30, 27, 27, 29, 28, 29, 29, 30, 28, 27, 30, 28, 30, 29, 28, 27, 29, 29, 27, 31, 29, 28, 27, 28, 28, 27, 30, 29, 27, 27, 29, 28, 28, 28, 28, 30, 28, 29, 27, 25, 29, 29, 28, 29, 28, 29, 28, 29, 27, 29, 28, 27, 29, 30, 29, 28, 28, 28, 31, 30, 29, 28, 29, 29, 29, 29, 28, 31, 28, 29, 29, 30, 27, 29, 29, 29, 27, 30, 27, 28, 28, 29, 26, 29, 28, 28, 28, 29, 25, 29, 31, 29, 27, 29, 29, 28, 27, 29, 26, 29, 31, 29, 28, 29, 28, 30, 26, 30, 29, 29, 29, 29, 27, 29, 27, 28, 28, 30, 28, 31, 29, 29, 26, 28, 29, 28, 29, 29, 27, 27, 27, 27, 27, 28, 29, 29, 29, 28, 26, 29, 28, 28, 27, 29, 28, 29, 29, 29, 28, 28, 30, 29, 28, 27, 28, 30, 28, 29, 27, 29, 28, 27, 27, 29, 28, 29, 29, 27, 26, 29, 27, 28, 28, 28, 27, 28, 29, 28, 27, 28, 30, 28, 26, 29, 29, 29, 27, 31, 25, 28, 28, 29, 29, 29, 26, 30, 26, 28, 28, 29, 31, 28, 27, 27, 28, 29, 28, 30, 29, 30, 28, 29, 27, 30, 29, 31, 29, 27, 25, 27, 27, 29, 29, 29, 31, 31, 30, 30, 29, 26, 30, 30, 28, 28, 28, 30, 28, 26, 27, 30, 29, 27, 30, 30, 30, 29, 28, 30, 28, 31, 29, 30, 27, 30, 26, 28, 29, 28, 27, 30, 28, 29, 28, 28, 28, 29, 27, 29, 28, 31, 30, 30, 28, 30, 28, 30, 29, 31, 27, 30, 29, 31, 27, 29, 27, 31, 28, 27, 27, 30, 28, 28, 26, 29, 26]\n"
     ]
    }
   ],
   "source": [
    "print(trace)"
   ]
  },
  {
   "cell_type": "raw",
   "metadata": {},
   "source": [
    "#data.close()"
   ]
  },
  {
   "cell_type": "code",
   "execution_count": null,
   "metadata": {
    "collapsed": true
   },
   "outputs": [],
   "source": []
  }
 ],
 "metadata": {
  "anaconda-cloud": {},
  "kernelspec": {
   "display_name": "Python [conda env:py2]",
   "language": "python",
   "name": "conda-env-py2-py"
  },
  "language_info": {
   "codemirror_mode": {
    "name": "ipython",
    "version": 2
   },
   "file_extension": ".py",
   "mimetype": "text/x-python",
   "name": "python",
   "nbconvert_exporter": "python",
   "pygments_lexer": "ipython2",
   "version": "2.7.12"
  }
 },
 "nbformat": 4,
 "nbformat_minor": 1
}
