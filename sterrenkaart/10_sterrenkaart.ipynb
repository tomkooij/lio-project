{
 "cells": [
  {
   "cell_type": "markdown",
   "metadata": {},
   "source": [
    "# Reconstructies op een hemelkaart\n",
    "In dit notebook worden de richtingen van\n",
    "deeltjeslawines bepaald en geplot op een projectie van de (sterren)hemel."
   ]
  },
  {
   "cell_type": "code",
   "execution_count": null,
   "metadata": {},
   "outputs": [],
   "source": [
    "# dit notebook werkt onder Python 2 en 3\n",
    "from __future__ import division, print_function"
   ]
  },
  {
   "cell_type": "code",
   "execution_count": null,
   "metadata": {},
   "outputs": [],
   "source": [
    "# importeer modules en functies\n",
    "from datetime import datetime\n",
    "\n",
    "import numpy as np\n",
    "import matplotlib.pyplot as plt\n",
    "%matplotlib inline\n",
    "\n",
    "import tables\n",
    "from sapphire import (download_coincidences, ReconstructESDCoincidences,\n",
    "                      HiSPARCStations)\n",
    "from sapphire.utils import pbar\n",
    "from sapphire.transformations.celestial import zenithazimuth_to_equatorial"
   ]
  },
  {
   "cell_type": "markdown",
   "metadata": {},
   "source": [
    "## Download data\n",
    "\n",
    "Download coincidenties tussen stations van het Science Park.\n",
    "We nemen coincidenties tussen negen stations in een periode van een maand. Door\n",
    "deze voorwaarde kiezen we showers met een hoge energie, waarvoor het interessant\n",
    "is om de aankomstrichting uit de ruimte te onderzoeken.\n",
    "\n",
    "\n",
    "Open een HDF5 bestand,\n",
    "waarin we onze data opslaan:"
   ]
  },
  {
   "cell_type": "code",
   "execution_count": null,
   "metadata": {},
   "outputs": [],
   "source": [
    "DATAFILE = 'coinc.h5'"
   ]
  },
  {
   "cell_type": "code",
   "execution_count": null,
   "metadata": {},
   "outputs": [],
   "source": [
    "data = tables.open_file(DATAFILE, 'w')"
   ]
  },
  {
   "cell_type": "markdown",
   "metadata": {},
   "source": [
    "Definieer de dataset:\n",
    "\n",
    "* STATIONS = lijst van stations\n",
    "* START = eerste tijdstip\n",
    "in `datetime`\n",
    "* END = laatste tijdstip als `datetime`\n",
    "* N = minimum aantal\n",
    "stations per coincidentie\n",
    "\n",
    "Tip: Gebruik `datetime?` om informatie te krijgen\n",
    "over het datetime object.\n",
    "\n",
    "Suggestie: Gebruik coincidenties tussen\n",
    "(bijvoorbeeld) minimaal zes stations."
   ]
  },
  {
   "cell_type": "code",
   "execution_count": null,
   "metadata": {},
   "outputs": [],
   "source": [
    "STATIONS = [501, 502, 503, 505, 506, 508, 509, 510, 511]\n",
    "START = datetime(2016, 1, 1)\n",
    "END = datetime(2016, 2, 1)\n",
    "N = 9"
   ]
  },
  {
   "cell_type": "markdown",
   "metadata": {},
   "source": [
    "Download coincidenties uit de ESD ([data.hisparc.nl](data.hisparc.nl)) en sla ze\n",
    "op in het HDF5 bestand:"
   ]
  },
  {
   "cell_type": "code",
   "execution_count": null,
   "metadata": {},
   "outputs": [],
   "source": [
    "download_coincidences(data, stations=STATIONS, start=START, end=END, n=N)"
   ]
  },
  {
   "cell_type": "code",
   "execution_count": null,
   "metadata": {},
   "outputs": [],
   "source": [
    "print(\"Aantal showers (coincidenties n=%d stations): %d \" % (N, len(data.root.coincidences.coincidences)))"
   ]
  },
  {
   "cell_type": "markdown",
   "metadata": {},
   "source": [
    "## Reconstrueer richting van de showers\n",
    "Reconstrueer en verwijder showers\n",
    "waarvan de richting niet gereconstrueerd konden worden (Zowel de zenit-hoek als\n",
    "azimut van die showers is NaN)."
   ]
  },
  {
   "cell_type": "code",
   "execution_count": null,
   "metadata": {},
   "outputs": [],
   "source": [
    "rec = ReconstructESDCoincidences(data, overwrite=True)\n",
    "rec.reconstruct_and_store()"
   ]
  },
  {
   "cell_type": "code",
   "execution_count": null,
   "metadata": {},
   "outputs": [],
   "source": [
    "recs = data.root.coincidences.reconstructions.read()\n",
    "theta = recs['zenith']\n",
    "recs = recs.compress(~np.isnan(theta))"
   ]
  },
  {
   "cell_type": "markdown",
   "metadata": {},
   "source": [
    "Maak een histrogram van de zenit-hoeken om de kwaliteit van de data te\n",
    "controleren:"
   ]
  },
  {
   "cell_type": "code",
   "execution_count": null,
   "metadata": {},
   "outputs": [],
   "source": [
    "plt.hist(recs['zenith'], histtype='step')\n",
    "plt.title('Zenit-hoek verdeling')\n",
    "plt.xlabel('zenit-hoek (rad)')\n",
    "plt.ylabel('aantal')\n",
    "plt.show()"
   ]
  },
  {
   "cell_type": "markdown",
   "metadata": {},
   "source": [
    "## Coordinatentransformatie naar rechte-klimming en declinatie\n",
    "\n",
    "De richting van\n",
    "de events (`zenit-hoek` en `azimut` ten opzicht van een ENU-assenstelsel in het\n",
    "cluster) wordt getransformeerd naar rechte klimming en declinatie.\n",
    "\n",
    "Voor de\n",
    "coordinatentransformatie naar rechte-klimming en declinatie is de\n",
    "positie van\n",
    "ENU-assenstelsel van het cluster nodig:"
   ]
  },
  {
   "cell_type": "code",
   "execution_count": null,
   "metadata": {},
   "outputs": [],
   "source": [
    "lla = HiSPARCStations(STATIONS).get_lla_coordinates()\n",
    "lat, lon, alt = lla\n",
    "print(lat, lon)"
   ]
  },
  {
   "cell_type": "markdown",
   "metadata": {},
   "source": [
    "Reken elk event om naar rechte klimming (RA) en declinatie (DEC). En schaal deze\n",
    "naar (-pi, pi) voor het plotten. Sla de RA,DEC paren op in de lijst `events`"
   ]
  },
  {
   "cell_type": "code",
   "execution_count": null,
   "metadata": {},
   "outputs": [],
   "source": [
    "events = []\n",
    "for rec in pbar(recs):\n",
    "    timestamp = rec['ext_timestamp'] / 1.e9\n",
    "    theta = rec['zenith']\n",
    "    phi = rec['azimuth']\n",
    "    r, d = zenithazimuth_to_equatorial(lat, lon, timestamp, theta, phi)\n",
    "    events.append((r-np.pi, d))\n",
    "events = np.array(events)"
   ]
  },
  {
   "cell_type": "markdown",
   "metadata": {},
   "source": [
    "Histrogram ter controle:"
   ]
  },
  {
   "cell_type": "code",
   "execution_count": null,
   "metadata": {},
   "outputs": [],
   "source": [
    "ra = np.degrees(events[:,0])\n",
    "plt.title('Histrogram van rechte klimming (ra)')\n",
    "n, bins, _ = plt.hist(ra, histtype='step')  # n is het aantal events per bin\n",
    "plt.xlabel('ra (graden)')\n",
    "plt.ylabel('aantal')\n",
    "plt.xlim([-180, 179])\n",
    "plt.ylim([0, 1.2*max(n)])\n",
    "plt.show()"
   ]
  },
  {
   "cell_type": "code",
   "execution_count": null,
   "metadata": {},
   "outputs": [],
   "source": [
    "dec = np.degrees(events[:, 1])\n",
    "plt.title('Histrogram van declinatie (dec)')\n",
    "n, bins, _ = plt.hist(dec, histtype='step')  # n is het aantal events per bin\n",
    "plt.xlabel('dec (graden)')\n",
    "plt.ylabel('aantal')\n",
    "plt.xlim([-90, 89])\n",
    "plt.ylim([0, 1.2*max(n)])\n",
    "plt.show()"
   ]
  },
  {
   "cell_type": "markdown",
   "metadata": {},
   "source": [
    "# Definitie van plots\n",
    "\n",
    "Hier worden de plot functies `plot_events_on_mollweide()`\n",
    "en `plot_events_polar()` gedefinieerd."
   ]
  },
  {
   "cell_type": "code",
   "execution_count": null,
   "metadata": {},
   "outputs": [],
   "source": [
    "# RA, DEC tuples van het steelpan asterisme in het sterrenbeeld Grote Beer\n",
    "steelpan = np.array([[13.792222, 49.3167], [13.398889, 54.9333], [12.900556, 55.95],\n",
    "                     [12.257222, 57.0333], [11.896944, 53.7000], [11.030833, 56.3833],\n",
    "                     [11.062222, 61.7500], [12.257222, 57.0333]])\n",
    "# Melkweg contouren als lijst van RA, DEC paren.\n",
    "# `milky_way.npy` heeft *geen* verbinding tussen RA 23h59 en 0h00 en `milky_way_polar.npy` wel.\n",
    "try:\n",
    "    mw_contour = np.load('milky_way.npy')\n",
    "    mw_contour_polar = np.load('milky_way_polar.npy')\n",
    "except:\n",
    "    mw_contour = mw_contour_polar = []"
   ]
  },
  {
   "cell_type": "code",
   "execution_count": null,
   "metadata": {},
   "outputs": [],
   "source": [
    "def plot_events_on_mollweide(events, filename=None):\n",
    "    \"\"\"Plot events (een lijst van RA, DEC tuples) op een kaart in Mollweide projectie\"\"\"\n",
    "\n",
    "    events = np.array(events)\n",
    "\n",
    "    fig = plt.figure(figsize=(15, 15))\n",
    "    ax = fig.add_subplot(111, projection=\"mollweide\")\n",
    "    ax.set_xticklabels(['2h', '4h', '6h', '8h', '10h', '12h', '14h', '16h', '18h', '20h', '22h'], fontsize='large')\n",
    "    ax.grid(True)\n",
    "\n",
    "    # plot milky way contours\n",
    "    for ra_mw, dec_mw in mw_contour:\n",
    "        ax.plot(ra_mw, dec_mw, color='grey')\n",
    "\n",
    "    # plot steelpan in UMa\n",
    "    ra_uma = np.radians(steelpan[:, 0] / 24 * 360 - 180.)\n",
    "    dec_uma = np.radians(steelpan[:, 1])\n",
    "    ax.plot(ra_uma, dec_uma, color='red')\n",
    "    ax.scatter(ra_uma, dec_uma, color='red')\n",
    "    # plot Polaris\n",
    "    ax.scatter(0., np.radians(90), color='red')\n",
    "\n",
    "    # plot reconstructions\n",
    "    ax.scatter(events[:,0], events[:,1], marker='x')\n",
    "    if filename:\n",
    "        plt.savefig(filename, dpi=200)"
   ]
  },
  {
   "cell_type": "code",
   "execution_count": null,
   "metadata": {},
   "outputs": [],
   "source": [
    "def plot_events_polar(events, filename=None):\n",
    "    \"\"\"Plot events (een lijst van RA, DEC paren) op een hemelkaart van de noordelijke hemel\"\"\"\n",
    "\n",
    "    events = np.array(events)\n",
    "\n",
    "    fig = plt.figure(figsize=(15,15))\n",
    "    ax = fig.add_subplot(111, projection=\"polar\")\n",
    "    ax.set_xticklabels(['12h', '15h', '18h', '21h', '0h', '3h', '6h', '9h'], fontsize='large')\n",
    "    ax.set_yticklabels(['80', '70', '60', '50', '40', '30', '20', '10', '0'])\n",
    "\n",
    "    ax.grid(True)\n",
    "\n",
    "    # plot milky way contours\n",
    "    for ra_mw, dec_mw in mw_contour_polar:\n",
    "        ax.plot(ra_mw, 90. - np.degrees(dec_mw), color='grey')\n",
    "\n",
    "    # plot UMa\n",
    "    ra_uma = np.radians(steelpan[:, 0] / 24 * 360 - 180.)\n",
    "    dec_uma = np.radians(steelpan[:, 1])\n",
    "    ax.plot(ra_uma, 90. - np.degrees(dec_uma), color='red')\n",
    "    ax.scatter(ra_uma, 90. - np.degrees(dec_uma), color='red')\n",
    "    # plot Polaris\n",
    "    ax.scatter(0., 0., color='red')\n",
    "\n",
    "    # plot reconstructions\n",
    "    ax.scatter(events[:,0], 90. - np.degrees(events[:,1]), marker='x')\n",
    "    ax.set_rmax(90.0)\n",
    "    if filename:\n",
    "        plt.savefig(filename, dpi=200)\n",
    "    plt.show()"
   ]
  },
  {
   "cell_type": "markdown",
   "metadata": {},
   "source": [
    "# Maak plots"
   ]
  },
  {
   "cell_type": "code",
   "execution_count": null,
   "metadata": {},
   "outputs": [],
   "source": [
    "plot_events_on_mollweide(events, filename='noordelijke hemel.png')"
   ]
  },
  {
   "cell_type": "code",
   "execution_count": null,
   "metadata": {},
   "outputs": [],
   "source": [
    "plot_events_polar(events, filename='noordelijke hemel.png')"
   ]
  },
  {
   "cell_type": "code",
   "execution_count": null,
   "metadata": {},
   "outputs": [],
   "source": [
    "data.close()"
   ]
  }
 ],
 "metadata": {},
 "nbformat": 4,
 "nbformat_minor": 0
}
