{
 "cells": [
  {
   "cell_type": "code",
   "execution_count": 1,
   "metadata": {
    "collapsed": true
   },
   "outputs": [],
   "source": [
    "from datetime import datetime\n",
    "import tables\n",
    "from sapphire import CoincidencesESD, download_data\n",
    "\n",
    "STATIONS = [501, 510, 599]\n",
    "START = datetime(2016, 5, 1)\n",
    "END = datetime(2016, 5, 2)\n",
    "FILENAME = 'coinc_with_s599.h5'"
   ]
  },
  {
   "cell_type": "code",
   "execution_count": 15,
   "metadata": {
    "collapsed": true
   },
   "outputs": [],
   "source": [
    "data = tables.open_file(FILENAME, 'a')\n"
   ]
  },
  {
   "cell_type": "code",
   "execution_count": 3,
   "metadata": {
    "collapsed": false
   },
   "outputs": [
    {
     "name": "stdout",
     "output_type": "stream",
     "text": [
      "Station 501 in group: /s501. group /s501 already in datafile.\n",
      "Station 510 in group: /s510. group /s510 already in datafile.\n",
      "Station 599 in group: /s599. group /s599 already in datafile.\n"
     ]
    }
   ],
   "source": [
    "station_groups = ['/s%d' % station for station in STATIONS]\n",
    "\n",
    "for station, group in zip(STATIONS, station_groups):\n",
    "    print \"Station %d in group: %s.\" % (station, group),\n",
    "    if group not in data:\n",
    "        print \"Downloading data: \"\n",
    "        download_data(data, group, station, START, END)\n",
    "    else:\n",
    "        print \"group %s already in datafile.\" % group\n",
    "    \n"
   ]
  },
  {
   "cell_type": "code",
   "execution_count": 4,
   "metadata": {
    "collapsed": false
   },
   "outputs": [
    {
     "name": "stdout",
     "output_type": "stream",
     "text": [
      "coinc_with_s599.h5 (File) ''\n",
      "Last modif.: 'Tue May 17 09:14:20 2016'\n",
      "Object Tree: \n",
      "/ (RootGroup) ''\n",
      "/coincidences (Group) ''\n",
      "/coincidences/c_index (VLArray(8936,)) ''\n",
      "/coincidences/coincidences (Table(8936,)) ''\n",
      "/coincidences/s_index (VLArray(3,)) ''\n",
      "/s501 (Group) ''\n",
      "/s501/events (Table(56396,)) ''\n",
      "/s510 (Group) ''\n",
      "/s510/events (Table(52126,)) ''\n",
      "/s599 (Group) ''\n",
      "/s599/events (Table(35402,)) ''\n",
      "\n"
     ]
    }
   ],
   "source": [
    "print data"
   ]
  },
  {
   "cell_type": "code",
   "execution_count": 5,
   "metadata": {
    "collapsed": false,
    "scrolled": true
   },
   "outputs": [
    {
     "ename": "RuntimeError",
     "evalue": "Group /coincidences already exists in datafile, and overwrite is False",
     "output_type": "error",
     "traceback": [
      "\u001b[1;31m---------------------------------------------------------------------------\u001b[0m",
      "\u001b[1;31mRuntimeError\u001b[0m                              Traceback (most recent call last)",
      "\u001b[1;32m<ipython-input-5-36ed0d11aea3>\u001b[0m in \u001b[0;36m<module>\u001b[1;34m()\u001b[0m\n\u001b[1;32m----> 1\u001b[1;33m \u001b[0mcoin\u001b[0m \u001b[1;33m=\u001b[0m \u001b[0mCoincidencesESD\u001b[0m\u001b[1;33m(\u001b[0m\u001b[0mdata\u001b[0m\u001b[1;33m,\u001b[0m \u001b[1;34m'/coincidences'\u001b[0m\u001b[1;33m,\u001b[0m \u001b[0mstation_groups\u001b[0m\u001b[1;33m)\u001b[0m\u001b[1;33m\u001b[0m\u001b[0m\n\u001b[0m\u001b[0;32m      2\u001b[0m \u001b[0mcoin\u001b[0m\u001b[1;33m.\u001b[0m\u001b[0msearch_and_store_coincidences\u001b[0m\u001b[1;33m(\u001b[0m\u001b[1;33m)\u001b[0m\u001b[1;33m\u001b[0m\u001b[0m\n",
      "\u001b[1;32md:\\dropbox\\sapphire\\sapphire\\analysis\\coincidences.pyc\u001b[0m in \u001b[0;36m__init__\u001b[1;34m(self, data, coincidence_group, station_groups, overwrite, progress)\u001b[0m\n\u001b[0;32m    132\u001b[0m                     raise RuntimeError(\"Group %s already exists in datafile, \"\n\u001b[0;32m    133\u001b[0m                                        \u001b[1;34m\"and overwrite is False\"\u001b[0m \u001b[1;33m%\u001b[0m\u001b[1;33m\u001b[0m\u001b[0m\n\u001b[1;32m--> 134\u001b[1;33m                                        coincidence_group)\n\u001b[0m\u001b[0;32m    135\u001b[0m             \u001b[0mhead\u001b[0m\u001b[1;33m,\u001b[0m \u001b[0mtail\u001b[0m \u001b[1;33m=\u001b[0m \u001b[0mos\u001b[0m\u001b[1;33m.\u001b[0m\u001b[0mpath\u001b[0m\u001b[1;33m.\u001b[0m\u001b[0msplit\u001b[0m\u001b[1;33m(\u001b[0m\u001b[0mcoincidence_group\u001b[0m\u001b[1;33m)\u001b[0m\u001b[1;33m\u001b[0m\u001b[0m\n\u001b[0;32m    136\u001b[0m             self.coincidence_group = data.create_group(head, tail,\n",
      "\u001b[1;31mRuntimeError\u001b[0m: Group /coincidences already exists in datafile, and overwrite is False"
     ]
    }
   ],
   "source": [
    "coin = CoincidencesESD(data, '/coincidences', station_groups)\n",
    "coin.search_and_store_coincidences()"
   ]
  },
  {
   "cell_type": "code",
   "execution_count": 6,
   "metadata": {
    "collapsed": true
   },
   "outputs": [],
   "source": [
    "data.close()"
   ]
  },
  {
   "cell_type": "code",
   "execution_count": 7,
   "metadata": {
    "collapsed": false
   },
   "outputs": [],
   "source": [
    "from sapphire import CoincidenceQuery\n",
    "cq = CoincidenceQuery(FILENAME)\n",
    "coincidences = cq.all(STATIONS, iterator=True)"
   ]
  },
  {
   "cell_type": "code",
   "execution_count": 8,
   "metadata": {
    "collapsed": false
   },
   "outputs": [
    {
     "data": {
      "text/plain": [
       "[]"
      ]
     },
     "execution_count": 8,
     "metadata": {},
     "output_type": "execute_result"
    }
   ],
   "source": [
    "coincidences"
   ]
  },
  {
   "cell_type": "code",
   "execution_count": 9,
   "metadata": {
    "collapsed": false
   },
   "outputs": [
    {
     "ename": "StopIteration",
     "evalue": "",
     "output_type": "error",
     "traceback": [
      "\u001b[1;31m---------------------------------------------------------------------------\u001b[0m",
      "\u001b[1;31mStopIteration\u001b[0m                             Traceback (most recent call last)",
      "\u001b[1;32m<ipython-input-9-f5bb386fc9a3>\u001b[0m in \u001b[0;36m<module>\u001b[1;34m()\u001b[0m\n\u001b[0;32m      1\u001b[0m \u001b[1;33m\u001b[0m\u001b[0m\n\u001b[0;32m      2\u001b[0m \u001b[0mevents\u001b[0m \u001b[1;33m=\u001b[0m \u001b[0mcq\u001b[0m\u001b[1;33m.\u001b[0m\u001b[0mall_events\u001b[0m\u001b[1;33m(\u001b[0m\u001b[0mcoincidences\u001b[0m\u001b[1;33m)\u001b[0m\u001b[1;33m\u001b[0m\u001b[0m\n\u001b[1;32m----> 3\u001b[1;33m \u001b[0mevents\u001b[0m\u001b[1;33m.\u001b[0m\u001b[0mnext\u001b[0m\u001b[1;33m(\u001b[0m\u001b[1;33m)\u001b[0m\u001b[1;33m\u001b[0m\u001b[0m\n\u001b[0m",
      "\u001b[1;31mStopIteration\u001b[0m: "
     ]
    }
   ],
   "source": [
    "\n",
    "events = cq.all_events(coincidences)\n",
    "events.next()"
   ]
  },
  {
   "cell_type": "code",
   "execution_count": 10,
   "metadata": {
    "collapsed": true
   },
   "outputs": [],
   "source": [
    "specific_events = cq.events_from_stations(coincidences, STATIONS)\n",
    "cq.finish()"
   ]
  },
  {
   "cell_type": "code",
   "execution_count": 25,
   "metadata": {
    "collapsed": false
   },
   "outputs": [
    {
     "name": "stdout",
     "output_type": "stream",
     "text": [
      "/coincidences/coincidences (Table(8936,)) ''\n"
     ]
    }
   ],
   "source": [
    "c_table = data.root.coincidences.coincidences\n",
    "print c_table"
   ]
  },
  {
   "cell_type": "code",
   "execution_count": 26,
   "metadata": {
    "collapsed": false
   },
   "outputs": [],
   "source": [
    "coinc = c_table.read()"
   ]
  },
  {
   "cell_type": "code",
   "execution_count": 27,
   "metadata": {
    "collapsed": false
   },
   "outputs": [],
   "source": [
    "s0 = coinc['s0']\n",
    "s1 = coinc['s1']\n",
    "s2 = coinc['s2']"
   ]
  },
  {
   "cell_type": "code",
   "execution_count": 28,
   "metadata": {
    "collapsed": false
   },
   "outputs": [
    {
     "data": {
      "text/plain": [
       "524"
      ]
     },
     "execution_count": 28,
     "metadata": {},
     "output_type": "execute_result"
    }
   ],
   "source": [
    "sum(s0 & s1 & s2)"
   ]
  },
  {
   "cell_type": "code",
   "execution_count": null,
   "metadata": {
    "collapsed": true
   },
   "outputs": [],
   "source": []
  }
 ],
 "metadata": {
  "kernelspec": {
   "display_name": "Python 2",
   "language": "python",
   "name": "python2"
  },
  "language_info": {
   "codemirror_mode": {
    "name": "ipython",
    "version": 2
   },
   "file_extension": ".py",
   "mimetype": "text/x-python",
   "name": "python",
   "nbconvert_exporter": "python",
   "pygments_lexer": "ipython2",
   "version": "2.7.11"
  }
 },
 "nbformat": 4,
 "nbformat_minor": 0
}
